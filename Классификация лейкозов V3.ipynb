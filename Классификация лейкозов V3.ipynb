{
 "cells": [
  {
   "cell_type": "code",
   "execution_count": 1,
   "metadata": {},
   "outputs": [],
   "source": [
    "import pandas as pd\n",
    "import numpy as np\n",
    "import seaborn as sns\n",
    "import matplotlib.pyplot as plt\n",
    "\n",
    "from sklearn.model_selection import GroupShuffleSplit\n",
    "from sklearn.metrics import roc_auc_score, confusion_matrix\n",
    "from catboost import CatBoostClassifier"
   ]
  },
  {
   "cell_type": "markdown",
   "metadata": {},
   "source": [
    "### **1) Предобработка**"
   ]
  },
  {
   "cell_type": "markdown",
   "metadata": {},
   "source": [
    "Анализ крови - это комплексный анализ, в ходе которого одномоментно оценивается сразу множество показателей (гемоглобин, эритроциты, лейкоциты, моноциты, etc). Для эффективной интерпретации результатов необходим анализ сразу всех признаков, получение каких-либо результатов (постановка диагноза) на основе только одного показателя представляется невозможным. К сожалению, в представленном датасете отсутствует ID анализа, что не позволяет понять, какие измерения относятся к одному анализу. \n",
    "Однако при внимательном анализе датасета можно выявить ряд факторов, позволяющих достаточно достоверным образом объединить измерения в один анализ. \n",
    "1) У ряда пациентов есть комментарии (записи в колонке 'Значение кол. показателя'). Все измерения у одного пациента, имеющие одинаковые комментарии относятся к одному анализу. Это представляется очевидным, так как вероятность того, что в разных анализах в комментариях написано одно и то же (в ряде случаев с грамматическими ошибками), пренебрежимо мала. Примеры комментариев: \n",
    "    - 'среди моноцитоидных  клеток **2,5** промоноцита.'\n",
    "    - '**истиное** число лейкоцитов **20,6**'\n",
    "    - '**тромболциты** проверены по мазку'\n",
    "2) Если посмотреть на исходный датасет в оригинальном порядке строк, то можно отметить чередование определенных показателей, формирующих последовательности. Например, у пациента лейкоциты - гемоглобин - ... - снова лейкоциты - снова гемоглобин и т.д. Логично, что каждая такая последовательность - это отдельный анализ. Данный метод является менее точным, но в условиях имеющихся данных представляется достаточно адекватным.\n",
    "\n",
    "Следуя описанной методологии произведено объединение различных измерений по анализам."
   ]
  },
  {
   "cell_type": "markdown",
   "metadata": {},
   "source": [
    "Вручную после этого были внесены некоторые изменения. Это ведет к нарушению воспроизводимости результатов, но с учетом качества предоставленных данных представляется позволительным. Исходя из логических умозаключений в ряде случаев ID были удалены. IDб созданные на основе комментариев и посследовательностей, были объединены в колонке 'Final Lab ID'"
   ]
  },
  {
   "cell_type": "markdown",
   "metadata": {},
   "source": [
    "### **2) Сводная таблица**"
   ]
  },
  {
   "cell_type": "markdown",
   "metadata": {},
   "source": [
    "Так как у нас мало пациентов с определенными диагнозами, и наша модель предназначена для скрининга, а не для точной диагностики, т.е. для выявления пациентов с лейкозами среди пациентов без лейкозов, то будем проводить бинарную классификацию между здоровыми пациентами и пациентами с лейкозами"
   ]
  },
  {
   "cell_type": "markdown",
   "metadata": {},
   "source": [
    "### **3) Добавление здоровых пациентов из другого датасета**"
   ]
  },
  {
   "cell_type": "markdown",
   "metadata": {},
   "source": [
    "### **4) Классфикация**"
   ]
  },
  {
   "cell_type": "code",
   "execution_count": 16,
   "metadata": {},
   "outputs": [],
   "source": [
    "# Загрузим подготовленный датасет\n",
    "all_patients = pd.read_csv('all_patients.csv')"
   ]
  },
  {
   "cell_type": "markdown",
   "metadata": {},
   "source": [
    "Все признаки в двух сравниваемых группах имеют относительно схожие значения (нет такого, что в одной группе среднее значения признака = 1, а вдругой = 10), что говорит о правильности слияния данных. Однако между группами имеются значимые различия. Они могут быть обусловлены как истинными различиями между пациентами с лейкозами и без, так и различиями из-за того, что данные взяты из разных датасетов."
   ]
  },
  {
   "cell_type": "code",
   "execution_count": 17,
   "metadata": {},
   "outputs": [],
   "source": [
    "# Разделим на test и train так, чтобы \n",
    "# 1) была стратификация по диагнозам\n",
    "# 2) строки для одной истории болезни были либо в test, либо в train\n",
    "\n",
    "# Assuming 'Диагноз' is the target variable and 'ID' is the grouping variable\n",
    "X = all_patients.drop(['Диагноз'], axis=1)\n",
    "y = all_patients['Диагноз']\n",
    "groups = all_patients['ID истории болезни']\n",
    "\n",
    "# Initialize GroupShuffleSplit with test size and random state\n",
    "gss = GroupShuffleSplit(n_splits=1, test_size=0.3, random_state=12)\n",
    "\n",
    "# Perform the stratified split\n",
    "for train_index, test_index in gss.split(X, y, groups=groups):\n",
    "    X_train, X_test = X.iloc[train_index], X.iloc[test_index]\n",
    "    y_train, y_test = y.iloc[train_index], y.iloc[test_index]"
   ]
  },
  {
   "cell_type": "code",
   "execution_count": 18,
   "metadata": {},
   "outputs": [],
   "source": [
    "# Удалим ненужные колонки\n",
    "X_train = X_train.drop('ID истории болезни', axis=1)\n",
    "X_test = X_test.drop('ID истории болезни', axis=1)\n",
    "\n",
    "# Объединим, чтобы перемешать\n",
    "train = pd.concat([X_train, y_train], axis=1, ignore_index=True)\n",
    "test = pd.concat([X_test, y_test], axis=1, ignore_index=True)\n",
    "\n",
    "# Перемешаем\n",
    "train = train.sample(frac=1, random_state=42)\n",
    "test = test.sample(frac=1, random_state=42)\n",
    "\n",
    "# Разделим\n",
    "X_train, y_train = train.iloc[:, :-1], train.iloc[:, -1]\n",
    "X_test, y_test = test.iloc[:, :-1], test.iloc[:, -1]"
   ]
  },
  {
   "cell_type": "code",
   "execution_count": 19,
   "metadata": {},
   "outputs": [
    {
     "name": "stdout",
     "output_type": "stream",
     "text": [
      "Sensitivity: 0.9108\n",
      "Specificity: 0.99248\n",
      "ROC AUC:     0.99512\n"
     ]
    }
   ],
   "source": [
    "# Обучим модель\n",
    "model = CatBoostClassifier(loss_function='Logloss', iterations=100, learning_rate=0.1,\n",
    "                           verbose=False, auto_class_weights='Balanced')\n",
    "model.fit(X_train, y_train)\n",
    "\n",
    "# Предскажем на тестовой выборке\n",
    "y_pred = model.predict(X_test)\n",
    "# Посчитаем вероятности\n",
    "y_proba = model.predict_proba(X_test)[:, 1]\n",
    "\n",
    "# Посчитаем чувствительность и специфичность\n",
    "conf_matrix = confusion_matrix(y_test, y_pred)\n",
    "tn, fp, fn, tp = conf_matrix.ravel()\n",
    "sensitivity = tp / (tp + fn)\n",
    "specificity = tn / (tn + fp)\n",
    "\n",
    "# Посчитаем ROC AUC\n",
    "roc_auc = roc_auc_score(y_test, y_proba)\n",
    "\n",
    "print(\"Sensitivity:\", round(sensitivity, 5))\n",
    "print(\"Specificity:\", round(specificity, 5))\n",
    "print(\"ROC AUC:    \", round(roc_auc, 5))"
   ]
  },
  {
   "cell_type": "markdown",
   "metadata": {},
   "source": [
    "1) В настоящем исследовании опробована методология объединения данных в анализы в предоставленном для работы датасете, а также добавление данных из другого датасета.\n",
    "2) Получена модель для скрининга на лейкозы, отличающаяся высокой чувствительностью и очень высокой специфичностью.\n",
    "3) Ключевое затруднение - это данные. К сожалению, в них отсутствуют анализы для здоровых пациентов, что вынудило добавить информацию из другого датасета. При этом не ясно, обусловлена ли эффективность работы модели наличием истинных различий между здоровыми пациентами и пациентами с лейкозами, либо же отличиями между двумя датасетами. \n",
    "4) Для создания более эффективных и транспаретных моделей машинного обучения необходимо обеспечение качественными данными, что в контексте поставленной для решения задачи означает предоставление информации не только о пациентах, страдающих заболеваниями, но и о здоровых пациентах."
   ]
  },
  {
   "cell_type": "code",
   "execution_count": 20,
   "metadata": {},
   "outputs": [],
   "source": [
    "# Сохранение\n",
    "model.save_model(\"server/model.cbm\")"
   ]
  }
 ],
 "metadata": {
  "kernelspec": {
   "display_name": "flask_blood",
   "language": "python",
   "name": "python3"
  },
  "language_info": {
   "codemirror_mode": {
    "name": "ipython",
    "version": 3
   },
   "file_extension": ".py",
   "mimetype": "text/x-python",
   "name": "python",
   "nbconvert_exporter": "python",
   "pygments_lexer": "ipython3",
   "version": "3.12.7"
  }
 },
 "nbformat": 4,
 "nbformat_minor": 2
}
